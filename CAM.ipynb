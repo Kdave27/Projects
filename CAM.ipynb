{
 "cells": [
  {
   "cell_type": "code",
   "execution_count": null,
   "metadata": {
    "id": "9RjNjU0ynyi1"
   },
   "outputs": [],
   "source": []
  },
  {
   "cell_type": "code",
   "execution_count": null,
   "metadata": {
    "id": "gkb0M5Xnnyb3"
   },
   "outputs": [],
   "source": []
  },
  {
   "cell_type": "code",
   "execution_count": null,
   "metadata": {
    "id": "EDQ5Y8OjnyZO"
   },
   "outputs": [],
   "source": []
  },
  {
   "cell_type": "code",
   "execution_count": null,
   "metadata": {
    "id": "bB50hJn9nyWY"
   },
   "outputs": [],
   "source": []
  },
  {
   "cell_type": "code",
   "execution_count": null,
   "metadata": {
    "id": "7ndd8VbwnyTP"
   },
   "outputs": [],
   "source": []
  },
  {
   "cell_type": "code",
   "execution_count": null,
   "metadata": {
    "id": "FVRfQYQInxjj"
   },
   "outputs": [],
   "source": []
  },
  {
   "cell_type": "code",
   "execution_count": null,
   "metadata": {
    "id": "RYVGFyuanxhS"
   },
   "outputs": [],
   "source": []
  },
  {
   "cell_type": "code",
   "execution_count": null,
   "metadata": {
    "id": "K8nZY2-FnxeY"
   },
   "outputs": [],
   "source": []
  },
  {
   "cell_type": "code",
   "execution_count": null,
   "metadata": {
    "id": "MQHxZ9wonxbs"
   },
   "outputs": [],
   "source": []
  },
  {
   "cell_type": "code",
   "execution_count": null,
   "metadata": {
    "id": "G5J934sinxYt"
   },
   "outputs": [],
   "source": []
  },
  {
   "cell_type": "code",
   "execution_count": null,
   "metadata": {
    "id": "V2qL3gQJnxWJ"
   },
   "outputs": [],
   "source": []
  },
  {
   "cell_type": "code",
   "execution_count": null,
   "metadata": {
    "id": "zuAL9gfQnxTU"
   },
   "outputs": [],
   "source": []
  },
  {
   "cell_type": "code",
   "execution_count": null,
   "metadata": {
    "id": "Zst43vi6nxQm"
   },
   "outputs": [],
   "source": []
  },
  {
   "cell_type": "code",
   "execution_count": null,
   "metadata": {
    "id": "2wvdUsolnxOf"
   },
   "outputs": [],
   "source": []
  },
  {
   "cell_type": "code",
   "execution_count": null,
   "metadata": {
    "id": "9b_fOT-jnxK8"
   },
   "outputs": [],
   "source": []
  },
  {
   "cell_type": "code",
   "execution_count": null,
   "metadata": {
    "id": "coblBxAWnxIU"
   },
   "outputs": [],
   "source": []
  },
  {
   "cell_type": "code",
   "execution_count": null,
   "metadata": {
    "id": "o-kR0zJ9nxFw"
   },
   "outputs": [],
   "source": []
  },
  {
   "cell_type": "code",
   "execution_count": null,
   "metadata": {
    "id": "2t74T-zvnxDE"
   },
   "outputs": [],
   "source": []
  },
  {
   "cell_type": "code",
   "execution_count": null,
   "metadata": {
    "id": "4Jpy6KOxnxAd"
   },
   "outputs": [],
   "source": []
  },
  {
   "cell_type": "code",
   "execution_count": null,
   "metadata": {
    "id": "eAXxeWCpnw90"
   },
   "outputs": [],
   "source": []
  },
  {
   "cell_type": "code",
   "execution_count": null,
   "metadata": {
    "id": "zPnW_cZWnw6v"
   },
   "outputs": [],
   "source": []
  },
  {
   "cell_type": "code",
   "execution_count": null,
   "metadata": {
    "id": "vJlkJBrknw4I"
   },
   "outputs": [],
   "source": []
  },
  {
   "cell_type": "code",
   "execution_count": null,
   "metadata": {
    "id": "eFg1lS10nw13"
   },
   "outputs": [],
   "source": []
  },
  {
   "cell_type": "code",
   "execution_count": null,
   "metadata": {
    "id": "wLNWAo6Onwy8"
   },
   "outputs": [],
   "source": []
  },
  {
   "cell_type": "code",
   "execution_count": null,
   "metadata": {
    "id": "WSYkl0sMnwv9"
   },
   "outputs": [],
   "source": []
  },
  {
   "cell_type": "code",
   "execution_count": null,
   "metadata": {
    "id": "vfGG2o20nwt2"
   },
   "outputs": [],
   "source": []
  },
  {
   "cell_type": "code",
   "execution_count": null,
   "metadata": {
    "id": "6hdXSZ-_nwrD"
   },
   "outputs": [],
   "source": []
  },
  {
   "cell_type": "code",
   "execution_count": null,
   "metadata": {
    "id": "RU93_iPmnwoN"
   },
   "outputs": [],
   "source": []
  },
  {
   "cell_type": "code",
   "execution_count": 2,
   "metadata": {
    "executionInfo": {
     "elapsed": 6,
     "status": "ok",
     "timestamp": 1713936751926,
     "user": {
      "displayName": "ALB TECH",
      "userId": "08687266280947726302"
     },
     "user_tz": -330
    },
    "id": "yA1stEFzly6b"
   },
   "outputs": [],
   "source": [
    "import numpy as np"
   ]
  },
  {
   "cell_type": "code",
   "execution_count": 5,
   "metadata": {
    "colab": {
     "base_uri": "https://localhost:8080/"
    },
    "executionInfo": {
     "elapsed": 12081,
     "status": "ok",
     "timestamp": 1713936885394,
     "user": {
      "displayName": "ALB TECH",
      "userId": "08687266280947726302"
     },
     "user_tz": -330
    },
    "id": "nC_rt1XMlqUk",
    "outputId": "184d5f55-c70f-416e-d229-b0c6bc2275f0"
   },
   "outputs": [
    {
     "name": "stdout",
     "output_type": "stream",
     "text": [
      "Enter the probe vector: 110001\n",
      "The recalled vector is:\n",
      "[[1. 1. 0. 0. 0. 0.]]\n"
     ]
    }
   ],
   "source": [
    "# Define memory vectors\n",
    "mem_vectors = np.array([\n",
    "    [1, 1, 0, 0, 0, 0],\n",
    "    [0, 0, 0, 0, 1, 1],\n",
    "    [0, 0, 1, 1, 0, 0]\n",
    "])\n",
    "\n",
    "# Get dimensions\n",
    "q, n = mem_vectors.shape\n",
    "\n",
    "# Bipolarize memory vectors(-1 and 1 mein covert)\n",
    "bip_mem_vectors = 2 * mem_vectors - 1\n",
    "\n",
    "# Initialize weight matrix\n",
    "zd_wt_mat = np.zeros((n, n))\n",
    "\n",
    "# Compute weight matrix\n",
    "for i in range(q):\n",
    "    zd_wt_mat += np.outer(bip_mem_vectors[i], bip_mem_vectors[i])\n",
    "\n",
    "zd_wt_mat -= q * np.eye(n)  # Zero diag\n",
    "\n",
    "# Input probe vector\n",
    "probe = input('Enter the probe vector: ')\n",
    "probe = np.array(list(map(int, probe)))\n",
    "\n",
    "# Signal vector\n",
    "signal_vector = 2 * probe - 1\n",
    "signal_vector = signal_vector.reshape(1, -1)  # Reshape to (1, n)\n",
    "\n",
    "flag = 0  # Initialize flag\n",
    "while flag != n:\n",
    "    permindex = np.random.permutation(n)  # Randomize order\n",
    "    old_signal_vector = np.copy(signal_vector)\n",
    "\n",
    "    for j in range(n):\n",
    "        act_vec = np.dot(signal_vector, zd_wt_mat)\n",
    "        if act_vec[0, permindex[j]] > 0:\n",
    "            signal_vector[0, permindex[j]] = 1\n",
    "        elif act_vec[0, permindex[j]] < 0:\n",
    "            signal_vector[0, permindex[j]] = -1\n",
    "\n",
    "    flag = np.dot(signal_vector, old_signal_vector.T)\n",
    "\n",
    "print('The recalled vector is:')\n",
    "print(0.5 * (signal_vector + 1))"
   ]
  }
 ],
 "metadata": {
  "colab": {
   "authorship_tag": "ABX9TyMO0kuWhKpghNOnQvWzRy8u",
   "provenance": []
  },
  "kernelspec": {
   "display_name": "Python 3 (ipykernel)",
   "language": "python",
   "name": "python3"
  },
  "language_info": {
   "codemirror_mode": {
    "name": "ipython",
    "version": 3
   },
   "file_extension": ".py",
   "mimetype": "text/x-python",
   "name": "python",
   "nbconvert_exporter": "python",
   "pygments_lexer": "ipython3",
   "version": "3.11.5"
  }
 },
 "nbformat": 4,
 "nbformat_minor": 1
}
