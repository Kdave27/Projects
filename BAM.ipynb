{
 "cells": [
  {
   "cell_type": "code",
   "execution_count": 2,
   "metadata": {
    "executionInfo": {
     "elapsed": 3,
     "status": "ok",
     "timestamp": 1713935100162,
     "user": {
      "displayName": "ALB TECH",
      "userId": "08687266280947726302"
     },
     "user_tz": -330
    },
    "id": "DCGN-ftqG1KO"
   },
   "outputs": [],
   "source": [
    "import numpy as np\n",
    "import random\n",
    "import math"
   ]
  },
  {
   "cell_type": "code",
   "execution_count": 3,
   "metadata": {
    "colab": {
     "base_uri": "https://localhost:8080/"
    },
    "executionInfo": {
     "elapsed": 7,
     "status": "ok",
     "timestamp": 1713935107598,
     "user": {
      "displayName": "ALB TECH",
      "userId": "08687266280947726302"
     },
     "user_tz": -330
    },
    "id": "LMxQN_MyYvry",
    "outputId": "fcee9b49-560b-405c-ebd3-c97e69db0ef8"
   },
   "outputs": [
    {
     "name": "stdout",
     "output_type": "stream",
     "text": [
      "X =  [[ 1  1  1  1  1  1]\n",
      " [-1 -1 -1 -1 -1 -1]\n",
      " [ 1 -1 -1  1  1  1]\n",
      " [ 1  1 -1 -1 -1 -1]]\n",
      "\n",
      "Y =  [[ 1  1  1]\n",
      " [-1 -1 -1]\n",
      " [-1  1  1]\n",
      " [ 1 -1  1]]\n",
      "\n",
      "Dimensions of X:  (4, 6)\n",
      "\n",
      "Dimensions of Y:  (4, 3)\n"
     ]
    }
   ],
   "source": [
    "X1 = [1, 1, 1, 1, 1, 1]\n",
    "X2 = [-1, -1, -1, -1, -1, -1]\n",
    "X3 = [1, -1, -1, 1, 1, 1]\n",
    "X4 = [1, 1, -1, -1, -1, -1]\n",
    "X = np.array([X1, X2, X3, X4])\n",
    "\n",
    "Y1 = [1, 1, 1]\n",
    "Y2 = [-1, -1, -1]\n",
    "Y3 = [-1, 1, 1]\n",
    "Y4 = [1, -1, 1]\n",
    "Y = np.array([Y1, Y2, Y3, Y4])\n",
    "\n",
    "print(\"X = \", X)\n",
    "print(\"\\nY = \", Y)\n",
    "print(\"\\nDimensions of X: \", X.shape)\n",
    "print(\"\\nDimensions of Y: \", Y.shape)"
   ]
  },
  {
   "cell_type": "code",
   "execution_count": null,
   "metadata": {
    "colab": {
     "base_uri": "https://localhost:8080/"
    },
    "executionInfo": {
     "elapsed": 3,
     "status": "ok",
     "timestamp": 1712899152341,
     "user": {
      "displayName": "ALB TECH",
      "userId": "08687266280947726302"
     },
     "user_tz": -330
    },
    "id": "9yJ5WEEqYAey",
    "outputId": "98774f6e-3e29-4781-d27a-64b11470ac05"
   },
   "outputs": [
    {
     "name": "stdout",
     "output_type": "stream",
     "text": [
      "Weights = \n",
      " [[2 2 4]\n",
      " [4 0 2]\n",
      " [2 2 0]\n",
      " [0 4 2]\n",
      " [0 4 2]\n",
      " [0 4 2]]\n",
      "Dimensions of Weight Matrix: (6, 3)\n"
     ]
    }
   ],
   "source": [
    "weight = np.dot(X.T, Y)\n",
    "print('Weights = \\n', weight, end = \"\")\n",
    "\n",
    "print(f\"\\nDimensions of Weight Matrix: {weight.shape}\")"
   ]
  },
  {
   "cell_type": "code",
   "execution_count": null,
   "metadata": {
    "id": "aT_Wi-pqkU6L"
   },
   "outputs": [],
   "source": [
    "def BipolarActivation(matrix, weight):\n",
    "    matrix[matrix > 0] = 1\n",
    "    matrix[matrix <= 0] = -1\n",
    "    return np.array(matrix)"
   ]
  },
  {
   "cell_type": "code",
   "execution_count": null,
   "metadata": {
    "colab": {
     "base_uri": "https://localhost:8080/"
    },
    "executionInfo": {
     "elapsed": 502,
     "status": "ok",
     "timestamp": 1712899090766,
     "user": {
      "displayName": "ALB TECH",
      "userId": "08687266280947726302"
     },
     "user_tz": -330
    },
    "id": "W5uGgx-WnZaa",
    "outputId": "80c45f6f-2e39-403d-8017-4ea0977beed7"
   },
   "outputs": [
    {
     "name": "stdout",
     "output_type": "stream",
     "text": [
      "weight * Y1 =  [1 1 1 1 1 1] & X1 = [1, 1, 1, 1, 1, 1] True\n",
      "weight * Y2 = [-1 -1 -1 -1 -1 -1] & X2 = [-1, -1, -1, -1, -1, -1] True\n",
      "weight * Y3 = [ 1 -1 -1  1  1  1] & X3 = [1, -1, -1, 1, 1, 1] True\n",
      "weight * Y4 = [ 1  1 -1 -1 -1 -1] & X4 = [1, 1, -1, -1, -1, -1] True\n"
     ]
    }
   ],
   "source": [
    "def backward(Y, weight):\n",
    "  x = np.dot(Y, weight.T)\n",
    "  return BipolarActivation(x, weight)\n",
    "\n",
    "print(f\"weight * Y1 =  {backward(Y1, weight)} & X1 = {X1} {np.array_equiv(backward(Y1, weight),X1)}\")\n",
    "print(f\"weight * Y2 = {backward(Y2, weight)} & X2 = {X2} {np.array_equiv(backward(Y2, weight),X2)}\")\n",
    "print(f\"weight * Y3 = {backward(Y3, weight)} & X3 = {X3} {np.array_equiv(backward(Y3, weight),X3)}\")\n",
    "print(f\"weight * Y4 = {backward(Y4, weight)} & X4 = {X4} {np.array_equiv(backward(Y4, weight),X4)}\")"
   ]
  },
  {
   "cell_type": "code",
   "execution_count": null,
   "metadata": {
    "colab": {
     "base_uri": "https://localhost:8080/"
    },
    "executionInfo": {
     "elapsed": 6,
     "status": "ok",
     "timestamp": 1712897637290,
     "user": {
      "displayName": "ALB TECH",
      "userId": "08687266280947726302"
     },
     "user_tz": -330
    },
    "id": "Ap7VMsi4njsg",
    "outputId": "c605fe42-5ef1-4f9e-d160-650a474d8edd"
   },
   "outputs": [
    {
     "name": "stdout",
     "output_type": "stream",
     "text": [
      "nweight * X1 =  [1 1 1] & Y1 = [1, 1, 1] True\n",
      "weight * X2 =  [-1 -1 -1] & Y2 = [-1, -1, -1] True\n",
      "weight * X3 =  [-1  1  1] & Y3 = [-1, 1, 1] True\n",
      "weight * X4 =  [ 1 -1  1] & Y4 = [1, -1, 1] True\n"
     ]
    }
   ],
   "source": [
    "def forward(X, weight):\n",
    "  Y = np.dot(weight.T, X)\n",
    "  return BipolarActivation(Y, weight)\n",
    "\n",
    "print(f\"weight * X1 =  {forward(X1, weight)} & Y1 = {Y1} {np.array_equiv(forward(X1, weight),Y1)}\")\n",
    "print(f\"weight * X2 =  {forward(X2, weight)} & Y2 = {Y2} {np.array_equiv(forward(X2, weight),Y2)}\")\n",
    "print(f\"weight * X3 =  {forward(X3, weight)} & Y3 = {Y3} {np.array_equiv(forward(X3, weight),Y3)}\")\n",
    "print(f\"weight * X4 =  {forward(X4, weight)} & Y4 = {Y4} {np.array_equiv(forward(X4, weight),Y4)}\")"
   ]
  },
  {
   "cell_type": "code",
   "execution_count": 7,
   "metadata": {
    "colab": {
     "base_uri": "https://localhost:8080/"
    },
    "executionInfo": {
     "elapsed": 5,
     "status": "ok",
     "timestamp": 1713936118128,
     "user": {
      "displayName": "ALB TECH",
      "userId": "08687266280947726302"
     },
     "user_tz": -330
    },
    "id": "7P1p6kSGi-3T",
    "outputId": "bafc1f3a-d8b2-46bd-b072-920226e6f728",
    "scrolled": true
   },
   "outputs": [
    {
     "name": "stdout",
     "output_type": "stream",
     "text": [
      "[[2 2 4]\n",
      " [4 0 2]\n",
      " [2 2 0]\n",
      " [0 4 2]\n",
      " [0 4 2]\n",
      " [0 4 2]]\n"
     ]
    }
   ],
   "source": [
    "X1 = [1, 1, 1, 1, 1, 1]\n",
    "X2 = [-1, -1, -1, -1, -1, -1]\n",
    "X3 = [1, -1, -1, 1, 1, 1]\n",
    "X4 = [1, 1, -1, -1, -1, -1]\n",
    "X = np.array([X1, X2, X3, X4])\n",
    "\n",
    "Y1 = [1, 1, 1]\n",
    "Y2 = [-1, -1, -1]\n",
    "Y3 = [-1, 1, 1]\n",
    "Y4 = [1, -1, 1]\n",
    "Y = np.array([Y1, Y2, Y3, Y4])\n",
    "\n",
    "a = np.dot(X.T,Y)\n",
    "print(a)\n"
   ]
  }
 ],
 "metadata": {
  "colab": {
   "authorship_tag": "ABX9TyO9Pq/NWKgISC3keZkfMmeH",
   "provenance": []
  },
  "kernelspec": {
   "display_name": "Python 3 (ipykernel)",
   "language": "python",
   "name": "python3"
  },
  "language_info": {
   "codemirror_mode": {
    "name": "ipython",
    "version": 3
   },
   "file_extension": ".py",
   "mimetype": "text/x-python",
   "name": "python",
   "nbconvert_exporter": "python",
   "pygments_lexer": "ipython3",
   "version": "3.11.5"
  }
 },
 "nbformat": 4,
 "nbformat_minor": 1
}
